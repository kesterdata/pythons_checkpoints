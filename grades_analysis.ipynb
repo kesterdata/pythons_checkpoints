{
 "cells": [
  {
   "cell_type": "code",
   "execution_count": 1,
   "id": "b195cef0",
   "metadata": {},
   "outputs": [],
   "source": [
    "import numpy as np"
   ]
  },
  {
   "cell_type": "markdown",
   "id": "5d819df4",
   "metadata": {},
   "source": [
    "### 1. Import the numpy library and create the \"grades\" array as specified above."
   ]
  },
  {
   "cell_type": "code",
   "execution_count": 2,
   "id": "549832c7",
   "metadata": {},
   "outputs": [
    {
     "data": {
      "text/plain": [
       "array([85, 90, 88, 92, 95, 80, 75, 98, 89, 83])"
      ]
     },
     "execution_count": 2,
     "metadata": {},
     "output_type": "execute_result"
    }
   ],
   "source": [
    "grades = np.array([85, 90, 88, 92, 95, 80, 75, 98, 89, 83])\n",
    "grades"
   ]
  },
  {
   "cell_type": "markdown",
   "id": "4eecf887",
   "metadata": {},
   "source": [
    "### 3. Use numpy functions to calculate the mean, median, and standard deviation of the grades.\n"
   ]
  },
  {
   "cell_type": "code",
   "execution_count": 4,
   "id": "1110710c",
   "metadata": {},
   "outputs": [
    {
     "data": {
      "text/plain": [
       "87.5"
      ]
     },
     "execution_count": 4,
     "metadata": {},
     "output_type": "execute_result"
    }
   ],
   "source": [
    "#mean\n",
    "mean_1 = np.mean(grades)\n",
    "mean_1"
   ]
  },
  {
   "cell_type": "code",
   "execution_count": 5,
   "id": "327766bb",
   "metadata": {},
   "outputs": [
    {
     "data": {
      "text/plain": [
       "88.5"
      ]
     },
     "execution_count": 5,
     "metadata": {},
     "output_type": "execute_result"
    }
   ],
   "source": [
    "#median\n",
    "med_1 = np.median(grades)\n",
    "med_1"
   ]
  },
  {
   "cell_type": "code",
   "execution_count": 6,
   "id": "2fad8a4c",
   "metadata": {},
   "outputs": [
    {
     "data": {
      "text/plain": [
       "6.591661399070799"
      ]
     },
     "execution_count": 6,
     "metadata": {},
     "output_type": "execute_result"
    }
   ],
   "source": [
    "#standard deviation\n",
    "stad_1 = np.std(grades)\n",
    "stad_1"
   ]
  },
  {
   "cell_type": "markdown",
   "id": "d56610be",
   "metadata": {},
   "source": [
    "### 4. Use numpy function to find the maximum and minimum of the grades."
   ]
  },
  {
   "cell_type": "code",
   "execution_count": 7,
   "id": "fcbd48ff",
   "metadata": {},
   "outputs": [
    {
     "data": {
      "text/plain": [
       "98"
      ]
     },
     "execution_count": 7,
     "metadata": {},
     "output_type": "execute_result"
    }
   ],
   "source": [
    "#maximum\n",
    "max_1 = np.max(grades)\n",
    "max_1"
   ]
  },
  {
   "cell_type": "code",
   "execution_count": 8,
   "id": "a102f6b5",
   "metadata": {},
   "outputs": [
    {
     "data": {
      "text/plain": [
       "75"
      ]
     },
     "execution_count": 8,
     "metadata": {},
     "output_type": "execute_result"
    }
   ],
   "source": [
    "#minimum\n",
    "min_1 = np.min(grades)\n",
    "min_1"
   ]
  },
  {
   "cell_type": "markdown",
   "id": "dc9539ee",
   "metadata": {},
   "source": [
    "### 5. Use numpy function to sort the grades in ascending order.\n"
   ]
  },
  {
   "cell_type": "code",
   "execution_count": 9,
   "id": "27d733c7",
   "metadata": {},
   "outputs": [
    {
     "data": {
      "text/plain": [
       "array([75, 80, 83, 85, 88, 89, 90, 92, 95, 98])"
      ]
     },
     "execution_count": 9,
     "metadata": {},
     "output_type": "execute_result"
    }
   ],
   "source": [
    "sort_1 = np.sort(grades)\n",
    "sort_1"
   ]
  },
  {
   "cell_type": "markdown",
   "id": "25d280ed",
   "metadata": {},
   "source": [
    "### 6. Use numpy function to find the index of the highest grade in the array."
   ]
  },
  {
   "cell_type": "code",
   "execution_count": 17,
   "id": "17671a3b",
   "metadata": {},
   "outputs": [
    {
     "name": "stdout",
     "output_type": "stream",
     "text": [
      "7\n"
     ]
    }
   ],
   "source": [
    "highest_grade_index = np.argmax(grades)\n",
    "print(highest_grade_index)"
   ]
  },
  {
   "cell_type": "markdown",
   "id": "91aaf3b8",
   "metadata": {},
   "source": [
    "### 7. Use numpy function to count the number of students who scored above 90"
   ]
  },
  {
   "cell_type": "code",
   "execution_count": 22,
   "id": "d7a72434",
   "metadata": {},
   "outputs": [
    {
     "data": {
      "text/plain": [
       "4"
      ]
     },
     "execution_count": 22,
     "metadata": {},
     "output_type": "execute_result"
    }
   ],
   "source": [
    "count_90_above = np.count_nonzero(grades >= 90)\n",
    "count_90_above"
   ]
  },
  {
   "cell_type": "markdown",
   "id": "247eeea4",
   "metadata": {},
   "source": [
    "### 8. Use numpy function to calculate the percentage of students who scored above 90"
   ]
  },
  {
   "cell_type": "code",
   "execution_count": 29,
   "id": "5ae23c03",
   "metadata": {},
   "outputs": [
    {
     "name": "stdout",
     "output_type": "stream",
     "text": [
      "30.0 %\n"
     ]
    }
   ],
   "source": [
    "above_90 = np.count_nonzero(grades > 90)  \n",
    "  \n",
    "per_above_90 = (above_90 / len(grades)) * 100  \n",
    "\n",
    "print(f\"{per_above_90} %\")"
   ]
  },
  {
   "cell_type": "markdown",
   "id": "ea467043",
   "metadata": {},
   "source": [
    "### 9. Use numpy function to calculate the percentage of students who scored below 75"
   ]
  },
  {
   "cell_type": "code",
   "execution_count": 31,
   "id": "bcdeb98a",
   "metadata": {},
   "outputs": [
    {
     "name": "stdout",
     "output_type": "stream",
     "text": [
      "0.0 %\n"
     ]
    }
   ],
   "source": [
    "below_75 = np.count_nonzero(grades <75)\n",
    "\n",
    "per_blow_75 = (below_75/ len(grades)) * 100\n",
    "\n",
    "print(f\"{per_blow_75} %\")"
   ]
  },
  {
   "cell_type": "markdown",
   "id": "cdab57ee",
   "metadata": {},
   "source": [
    "### 10. Use numpy function to extract all the grades above 90 and put them in a new array called \"high_performers\"."
   ]
  },
  {
   "cell_type": "code",
   "execution_count": 39,
   "id": "1bf03f47",
   "metadata": {},
   "outputs": [
    {
     "data": {
      "text/plain": [
       "array([90, 92, 95, 98])"
      ]
     },
     "execution_count": 39,
     "metadata": {},
     "output_type": "execute_result"
    }
   ],
   "source": [
    "high_performers= grades[grades >90]\n",
    "high_performers\n"
   ]
  },
  {
   "cell_type": "markdown",
   "id": "bbb1fff4",
   "metadata": {},
   "source": [
    "### 11. Create a new array called \"passing_grades\" that contains all the grades above 75."
   ]
  },
  {
   "cell_type": "code",
   "execution_count": 42,
   "id": "554a2d1b",
   "metadata": {},
   "outputs": [
    {
     "data": {
      "text/plain": [
       "array([85, 90, 88, 92, 95, 80, 98, 89, 83])"
      ]
     },
     "execution_count": 42,
     "metadata": {},
     "output_type": "execute_result"
    }
   ],
   "source": [
    "pass_grades = grades [grades >75]\n",
    "pass_grades"
   ]
  },
  {
   "cell_type": "code",
   "execution_count": null,
   "id": "3917cd98",
   "metadata": {},
   "outputs": [],
   "source": []
  }
 ],
 "metadata": {
  "kernelspec": {
   "display_name": "Python 3 (ipykernel)",
   "language": "python",
   "name": "python3"
  },
  "language_info": {
   "codemirror_mode": {
    "name": "ipython",
    "version": 3
   },
   "file_extension": ".py",
   "mimetype": "text/x-python",
   "name": "python",
   "nbconvert_exporter": "python",
   "pygments_lexer": "ipython3",
   "version": "3.9.13"
  }
 },
 "nbformat": 4,
 "nbformat_minor": 5
}
